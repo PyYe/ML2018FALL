{
 "cells": [
  {
   "cell_type": "code",
   "execution_count": 1,
   "metadata": {},
   "outputs": [],
   "source": [
    "import pandas as pd\n",
    "import numpy as np\n",
    "import os, sys, math\n",
    "from sklearn.model_selection import train_test_split\n",
    "from sklearn.metrics import f1_score\n",
    "import scipy.optimize as opt\n",
    "from PIL import Image\n",
    "import cv2\n",
    "import random as rn"
   ]
  },
  {
   "cell_type": "code",
   "execution_count": 2,
   "metadata": {},
   "outputs": [],
   "source": [
    "import tensorflow as tf\n",
    "from tensorflow.image import resize_images"
   ]
  },
  {
   "cell_type": "code",
   "execution_count": 3,
   "metadata": {},
   "outputs": [
    {
     "name": "stderr",
     "output_type": "stream",
     "text": [
      "Using TensorFlow backend.\n"
     ]
    }
   ],
   "source": [
    "from keras.preprocessing.image import ImageDataGenerator\n",
    "from keras.models import Sequential, load_model, Model\n",
    "from keras import metrics\n",
    "from keras.optimizers import Adam \n",
    "from keras import backend as K\n",
    "from keras import layers\n",
    "from keras.layers import Dense, Dropout, Activation, Flatten, Conv2D, MaxPooling2D, LeakyReLU, PReLU, Input\n",
    "from keras.utils import np_utils\n",
    "from keras.layers.normalization import BatchNormalization\n",
    "from keras.preprocessing.image import ImageDataGenerator\n",
    "from keras.callbacks import EarlyStopping, ModelCheckpoint, History, TensorBoard\n",
    "from keras.applications.inception_resnet_v2 import InceptionResNetV2"
   ]
  },
  {
   "cell_type": "code",
   "execution_count": 4,
   "metadata": {},
   "outputs": [],
   "source": [
    "os.environ['PYTHONHASHSEED'] = '0'\n",
    "# Setting the seed for numpy-generated random numbers\n",
    "np.random.seed(37)\n",
    "# Setting the seed for python random numbers\n",
    "rn.seed(1254)\n",
    "# Setting the graph-level random seed.\n",
    "tf.set_random_seed(89)\n",
    "# 自動增長 GPU 記憶體用量\n",
    "gpu_options = tf.GPUOptions(allow_growth=True)\n",
    "sess = tf.Session(config=tf.ConfigProto(gpu_options=gpu_options))\n",
    "# 設定 Keras 使用的 Session\n",
    "tf.keras.backend.set_session(sess)"
   ]
  },
  {
   "cell_type": "code",
   "execution_count": 5,
   "metadata": {},
   "outputs": [
    {
     "data": {
      "text/plain": [
       "\"\\nname_label_dict = {\\n0:  'Nucleoplasm',\\n1:  'Nuclear membrane',\\n2:  'Nucleoli',   \\n3:  'Nucleoli fibrillar center',\\n4:  'Nuclear speckles',\\n5:  'Nuclear bodies',\\n6:  'Endoplasmic reticulum',   \\n7:  'Golgi apparatus',\\n8:  'Peroxisomes',\\n9:  'Endosomes',\\n10:  'Lysosomes',\\n11:  'Intermediate filaments',\\n12:  'Actin filaments',\\n13:  'Focal adhesion sites',   \\n14:  'Microtubules',\\n15:  'Microtubule ends',  \\n16:  'Cytokinetic bridge',   \\n17:  'Mitotic spindle',\\n18:  'Microtubule organizing center',  \\n19:  'Centrosome',\\n20:  'Lipid droplets',\\n21:  'Plasma membrane',   \\n22:  'Cell junctions', \\n23:  'Mitochondria',\\n24:  'Aggresome',\\n25:  'Cytosol',\\n26:  'Cytoplasmic bodies',   \\n27:  'Rods & rings' }\\n\""
      ]
     },
     "execution_count": 5,
     "metadata": {},
     "output_type": "execute_result"
    }
   ],
   "source": [
    "\"\"\"\n",
    "name_label_dict = {\n",
    "0:  'Nucleoplasm',\n",
    "1:  'Nuclear membrane',\n",
    "2:  'Nucleoli',   \n",
    "3:  'Nucleoli fibrillar center',\n",
    "4:  'Nuclear speckles',\n",
    "5:  'Nuclear bodies',\n",
    "6:  'Endoplasmic reticulum',   \n",
    "7:  'Golgi apparatus',\n",
    "8:  'Peroxisomes',\n",
    "9:  'Endosomes',\n",
    "10:  'Lysosomes',\n",
    "11:  'Intermediate filaments',\n",
    "12:  'Actin filaments',\n",
    "13:  'Focal adhesion sites',   \n",
    "14:  'Microtubules',\n",
    "15:  'Microtubule ends',  \n",
    "16:  'Cytokinetic bridge',   \n",
    "17:  'Mitotic spindle',\n",
    "18:  'Microtubule organizing center',  \n",
    "19:  'Centrosome',\n",
    "20:  'Lipid droplets',\n",
    "21:  'Plasma membrane',   \n",
    "22:  'Cell junctions', \n",
    "23:  'Mitochondria',\n",
    "24:  'Aggresome',\n",
    "25:  'Cytosol',\n",
    "26:  'Cytoplasmic bodies',   \n",
    "27:  'Rods & rings' }\n",
    "\"\"\""
   ]
  },
  {
   "cell_type": "code",
   "execution_count": 6,
   "metadata": {},
   "outputs": [],
   "source": [
    "NAME = \"test5_notgenerator_densenet169_dense_TTA_test\"# os.path.basename(__file__).split('.')[0]\n",
    "PATH = os.getcwd()\n",
    "TRAIN = os.path.join(os.getcwd(), 'data', 'train')\n",
    "TEST = os.path.join(os.getcwd(), 'data', 'test')\n",
    "PREPROCESSED = os.path.join(os.getcwd(), 'preprocessed_data')\n",
    "LABELS = os.path.join(os.getcwd(), 'data', 'train.csv')\n",
    "SAMPLE = os.path.join(os.getcwd(), 'data', 'sample_submission.csv')\n",
    "MODEL = os.path.join(os.getcwd(), 'model', NAME[:-9]+'.h5')\n",
    "RESULT = os.path.join(os.getcwd(), 'result', NAME+'_submission.csv')"
   ]
  },
  {
   "cell_type": "code",
   "execution_count": 7,
   "metadata": {},
   "outputs": [],
   "source": [
    "from tta_wrapper import tta_classification"
   ]
  },
  {
   "cell_type": "code",
   "execution_count": 8,
   "metadata": {},
   "outputs": [],
   "source": [
    "IMAGE_LENGTH = 512\n",
    "IMAGE_WIDTH = 512\n",
    "CHANNEL_NUM = 4\n",
    "#TRAIN_SIZE = int(len(os.listdir(TRAIN))/4)\n",
    "LABEL_NUM = 28"
   ]
  },
  {
   "cell_type": "code",
   "execution_count": 9,
   "metadata": {},
   "outputs": [],
   "source": [
    "test_x = np.load(os.path.join(PREPROCESSED, 'test_RGBY_original_x.npy'))"
   ]
  },
  {
   "cell_type": "code",
   "execution_count": 10,
   "metadata": {},
   "outputs": [],
   "source": [
    "def f1(y_true, y_pred):\n",
    "    y_pred = K.round(y_pred)\n",
    "    tp = K.sum(K.cast(y_true*y_pred, 'float'), axis=0)\n",
    "    # tn = K.sum(K.cast((1-y_true)*(1-y_pred), 'float'), axis=0)\n",
    "    fp = K.sum(K.cast((1-y_true)*y_pred, 'float'), axis=0)\n",
    "    fn = K.sum(K.cast(y_true*(1-y_pred), 'float'), axis=0)\n",
    "\n",
    "    p = tp / (tp + fp + K.epsilon())\n",
    "    r = tp / (tp + fn + K.epsilon())\n",
    "\n",
    "    f1 = 2*p*r / (p+r+K.epsilon())\n",
    "    f1 = tf.where(tf.is_nan(f1), tf.zeros_like(f1), f1)\n",
    "    return K.mean(f1)"
   ]
  },
  {
   "cell_type": "code",
   "execution_count": 11,
   "metadata": {},
   "outputs": [],
   "source": [
    "def focal_loss(gamma=2., alpha=.25):\n",
    "    def focal_loss_fixed(y_true, y_pred):\n",
    "        pt_1 = tf.where(tf.equal(y_true, 1), y_pred, tf.ones_like(y_pred))\n",
    "        pt_0 = tf.where(tf.equal(y_true, 0), y_pred, tf.zeros_like(y_pred))\n",
    "        return -K.sum(alpha * K.pow(1. - pt_1, gamma) * K.log(pt_1))-K.sum((1-alpha) * K.pow( pt_0, gamma) * K.log(1. - pt_0))\n",
    "    return focal_loss_fixed"
   ]
  },
  {
   "cell_type": "code",
   "execution_count": 12,
   "metadata": {
    "scrolled": true
   },
   "outputs": [],
   "source": [
    "model = load_model(MODEL, custom_objects={'f1': f1, 'focal_loss_fixed' : focal_loss()})"
   ]
  },
  {
   "cell_type": "code",
   "execution_count": 13,
   "metadata": {},
   "outputs": [
    {
     "name": "stdout",
     "output_type": "stream",
     "text": [
      "11702/11702 [==============================] - 1698s 145ms/step\n"
     ]
    }
   ],
   "source": [
    "\n",
    "tta_model = tta_classification(model, h_flip=True, rotation=(90, 270), \n",
    "                             merge='mean')\n",
    "\n",
    "\n",
    "test_pred_y = tta_model.predict(test_x, batch_size=1, verbose=1)\n",
    "#test_pred_y = model.predict(test_x, verbose=1)"
   ]
  },
  {
   "cell_type": "code",
   "execution_count": 14,
   "metadata": {
    "scrolled": true
   },
   "outputs": [
    {
     "data": {
      "text/plain": [
       "array([[1.18836679e-01, 4.03447310e-04, 7.91559219e-01, ...,\n",
       "        4.72033285e-02, 1.60030395e-04, 1.18864783e-07],\n",
       "       [1.00527845e-01, 5.42527437e-03, 1.65713243e-02, ...,\n",
       "        1.85586408e-01, 6.32363418e-03, 9.34159325e-05],\n",
       "       [2.63258427e-01, 7.03239581e-04, 1.19709847e-02, ...,\n",
       "        4.75552291e-01, 6.64077015e-06, 1.04555841e-06],\n",
       "       ...,\n",
       "       [8.38446096e-02, 3.98427481e-03, 6.99415803e-03, ...,\n",
       "        8.46316740e-02, 2.59049819e-03, 6.09253475e-04],\n",
       "       [2.90850073e-01, 5.39635658e-01, 1.39783220e-02, ...,\n",
       "        1.43636093e-02, 7.67411618e-03, 8.04565425e-05],\n",
       "       [4.35553640e-01, 1.78415459e-02, 4.46308078e-03, ...,\n",
       "        3.28861088e-01, 1.77927397e-03, 8.57601935e-06]], dtype=float32)"
      ]
     },
     "execution_count": 14,
     "metadata": {},
     "output_type": "execute_result"
    }
   ],
   "source": [
    "test_pred_y"
   ]
  },
  {
   "cell_type": "code",
   "execution_count": 15,
   "metadata": {
    "scrolled": true
   },
   "outputs": [],
   "source": [
    "thre_list = np.load(os.path.join(PREPROCESSED, 'test5_notgenerator_densenet169_dense_TTA_thre.npy'))"
   ]
  },
  {
   "cell_type": "code",
   "execution_count": 16,
   "metadata": {},
   "outputs": [],
   "source": [
    "result_bool = ((test_pred_y - np.array(thre_list)) >= np.zeros((test_pred_y.shape)))"
   ]
  },
  {
   "cell_type": "code",
   "execution_count": 17,
   "metadata": {
    "scrolled": true
   },
   "outputs": [],
   "source": [
    "submission_df = pd.read_csv(SAMPLE)"
   ]
  },
  {
   "cell_type": "code",
   "execution_count": 18,
   "metadata": {},
   "outputs": [],
   "source": [
    "for i in range(result_bool.shape[0]):\n",
    "    ans_str = \"\"\n",
    "    for j in range(result_bool.shape[1]):\n",
    "        if result_bool[i,j]:\n",
    "            ans_str += str(j)+\" \"\n",
    "    submission_df.loc[i,'Predicted'] = ans_str[:-1]"
   ]
  },
  {
   "cell_type": "code",
   "execution_count": 19,
   "metadata": {
    "scrolled": true
   },
   "outputs": [
    {
     "data": {
      "text/html": [
       "<div>\n",
       "<style scoped>\n",
       "    .dataframe tbody tr th:only-of-type {\n",
       "        vertical-align: middle;\n",
       "    }\n",
       "\n",
       "    .dataframe tbody tr th {\n",
       "        vertical-align: top;\n",
       "    }\n",
       "\n",
       "    .dataframe thead th {\n",
       "        text-align: right;\n",
       "    }\n",
       "</style>\n",
       "<table border=\"1\" class=\"dataframe\">\n",
       "  <thead>\n",
       "    <tr style=\"text-align: right;\">\n",
       "      <th></th>\n",
       "      <th>Id</th>\n",
       "      <th>Predicted</th>\n",
       "    </tr>\n",
       "  </thead>\n",
       "  <tbody>\n",
       "    <tr>\n",
       "      <th>0</th>\n",
       "      <td>00008af0-bad0-11e8-b2b8-ac1f6b6435d0</td>\n",
       "      <td>2</td>\n",
       "    </tr>\n",
       "    <tr>\n",
       "      <th>1</th>\n",
       "      <td>0000a892-bacf-11e8-b2b8-ac1f6b6435d0</td>\n",
       "      <td>5 25</td>\n",
       "    </tr>\n",
       "    <tr>\n",
       "      <th>2</th>\n",
       "      <td>0006faa6-bac7-11e8-b2b7-ac1f6b6435d0</td>\n",
       "      <td>0 5 25</td>\n",
       "    </tr>\n",
       "    <tr>\n",
       "      <th>3</th>\n",
       "      <td>0008baca-bad7-11e8-b2b9-ac1f6b6435d0</td>\n",
       "      <td>0 25</td>\n",
       "    </tr>\n",
       "    <tr>\n",
       "      <th>4</th>\n",
       "      <td>000cce7e-bad4-11e8-b2b8-ac1f6b6435d0</td>\n",
       "      <td>7 23 25</td>\n",
       "    </tr>\n",
       "    <tr>\n",
       "      <th>5</th>\n",
       "      <td>00109f6a-bac8-11e8-b2b7-ac1f6b6435d0</td>\n",
       "      <td>4 21 25</td>\n",
       "    </tr>\n",
       "    <tr>\n",
       "      <th>6</th>\n",
       "      <td>001765de-bacd-11e8-b2b8-ac1f6b6435d0</td>\n",
       "      <td>4 25</td>\n",
       "    </tr>\n",
       "    <tr>\n",
       "      <th>7</th>\n",
       "      <td>0018641a-bac9-11e8-b2b8-ac1f6b6435d0</td>\n",
       "      <td>0 25</td>\n",
       "    </tr>\n",
       "    <tr>\n",
       "      <th>8</th>\n",
       "      <td>00200f22-bad7-11e8-b2b9-ac1f6b6435d0</td>\n",
       "      <td>0 25</td>\n",
       "    </tr>\n",
       "    <tr>\n",
       "      <th>9</th>\n",
       "      <td>0026f154-bac6-11e8-b2b7-ac1f6b6435d0</td>\n",
       "      <td>4 21 25</td>\n",
       "    </tr>\n",
       "    <tr>\n",
       "      <th>10</th>\n",
       "      <td>002729d2-bace-11e8-b2b8-ac1f6b6435d0</td>\n",
       "      <td>18 25</td>\n",
       "    </tr>\n",
       "    <tr>\n",
       "      <th>11</th>\n",
       "      <td>002c1a7c-bad4-11e8-b2b8-ac1f6b6435d0</td>\n",
       "      <td>3 5</td>\n",
       "    </tr>\n",
       "    <tr>\n",
       "      <th>12</th>\n",
       "      <td>003170fa-bacd-11e8-b2b8-ac1f6b6435d0</td>\n",
       "      <td>2 25</td>\n",
       "    </tr>\n",
       "    <tr>\n",
       "      <th>13</th>\n",
       "      <td>0031820a-baca-11e8-b2b8-ac1f6b6435d0</td>\n",
       "      <td>0 6 7</td>\n",
       "    </tr>\n",
       "    <tr>\n",
       "      <th>14</th>\n",
       "      <td>00407c16-bad3-11e8-b2b8-ac1f6b6435d0</td>\n",
       "      <td>0 21</td>\n",
       "    </tr>\n",
       "    <tr>\n",
       "      <th>15</th>\n",
       "      <td>005ce2ea-bacc-11e8-b2b8-ac1f6b6435d0</td>\n",
       "      <td>7 18 25</td>\n",
       "    </tr>\n",
       "    <tr>\n",
       "      <th>16</th>\n",
       "      <td>00631ec8-bad9-11e8-b2b9-ac1f6b6435d0</td>\n",
       "      <td>2 14</td>\n",
       "    </tr>\n",
       "    <tr>\n",
       "      <th>17</th>\n",
       "      <td>00673f64-bad2-11e8-b2b8-ac1f6b6435d0</td>\n",
       "      <td>0 5</td>\n",
       "    </tr>\n",
       "    <tr>\n",
       "      <th>18</th>\n",
       "      <td>0070171c-bad0-11e8-b2b8-ac1f6b6435d0</td>\n",
       "      <td>14 21</td>\n",
       "    </tr>\n",
       "    <tr>\n",
       "      <th>19</th>\n",
       "      <td>007290b6-bad8-11e8-b2b9-ac1f6b6435d0</td>\n",
       "      <td>0 5</td>\n",
       "    </tr>\n",
       "    <tr>\n",
       "      <th>20</th>\n",
       "      <td>0075ee26-bacb-11e8-b2b8-ac1f6b6435d0</td>\n",
       "      <td>6</td>\n",
       "    </tr>\n",
       "    <tr>\n",
       "      <th>21</th>\n",
       "      <td>00763d66-bacd-11e8-b2b8-ac1f6b6435d0</td>\n",
       "      <td>3 6 11</td>\n",
       "    </tr>\n",
       "    <tr>\n",
       "      <th>22</th>\n",
       "      <td>007eca68-bac7-11e8-b2b7-ac1f6b6435d0</td>\n",
       "      <td>0 25</td>\n",
       "    </tr>\n",
       "    <tr>\n",
       "      <th>23</th>\n",
       "      <td>008ab0b8-bad5-11e8-b2b8-ac1f6b6435d0</td>\n",
       "      <td>0</td>\n",
       "    </tr>\n",
       "    <tr>\n",
       "      <th>24</th>\n",
       "      <td>008e8c3e-bad4-11e8-b2b8-ac1f6b6435d0</td>\n",
       "      <td>0 4</td>\n",
       "    </tr>\n",
       "    <tr>\n",
       "      <th>25</th>\n",
       "      <td>009131e6-baca-11e8-b2b8-ac1f6b6435d0</td>\n",
       "      <td>0 21 25</td>\n",
       "    </tr>\n",
       "    <tr>\n",
       "      <th>26</th>\n",
       "      <td>0094159e-bad1-11e8-b2b8-ac1f6b6435d0</td>\n",
       "      <td>0 21 25</td>\n",
       "    </tr>\n",
       "    <tr>\n",
       "      <th>27</th>\n",
       "      <td>0097a5c2-bac9-11e8-b2b8-ac1f6b6435d0</td>\n",
       "      <td>0 19</td>\n",
       "    </tr>\n",
       "    <tr>\n",
       "      <th>28</th>\n",
       "      <td>009d32e4-bad3-11e8-b2b8-ac1f6b6435d0</td>\n",
       "      <td>0 25</td>\n",
       "    </tr>\n",
       "    <tr>\n",
       "      <th>29</th>\n",
       "      <td>00a4925a-bad8-11e8-b2b9-ac1f6b6435d0</td>\n",
       "      <td>0 5</td>\n",
       "    </tr>\n",
       "    <tr>\n",
       "      <th>...</th>\n",
       "      <td>...</td>\n",
       "      <td>...</td>\n",
       "    </tr>\n",
       "    <tr>\n",
       "      <th>11672</th>\n",
       "      <td>ff2cd716-bad7-11e8-b2b9-ac1f6b6435d0</td>\n",
       "      <td>0 3 5</td>\n",
       "    </tr>\n",
       "    <tr>\n",
       "      <th>11673</th>\n",
       "      <td>ff2d3abc-bad7-11e8-b2b9-ac1f6b6435d0</td>\n",
       "      <td>0 25</td>\n",
       "    </tr>\n",
       "    <tr>\n",
       "      <th>11674</th>\n",
       "      <td>ff38cec0-bad4-11e8-b2b8-ac1f6b6435d0</td>\n",
       "      <td>0 2</td>\n",
       "    </tr>\n",
       "    <tr>\n",
       "      <th>11675</th>\n",
       "      <td>ff489096-bad7-11e8-b2b9-ac1f6b6435d0</td>\n",
       "      <td>0 25</td>\n",
       "    </tr>\n",
       "    <tr>\n",
       "      <th>11676</th>\n",
       "      <td>ff49d834-bad2-11e8-b2b8-ac1f6b6435d0</td>\n",
       "      <td>2 21</td>\n",
       "    </tr>\n",
       "    <tr>\n",
       "      <th>11677</th>\n",
       "      <td>ff4aa9a4-bac7-11e8-b2b7-ac1f6b6435d0</td>\n",
       "      <td>21</td>\n",
       "    </tr>\n",
       "    <tr>\n",
       "      <th>11678</th>\n",
       "      <td>ff5464dc-baca-11e8-b2b8-ac1f6b6435d0</td>\n",
       "      <td>0 12 21</td>\n",
       "    </tr>\n",
       "    <tr>\n",
       "      <th>11679</th>\n",
       "      <td>ff56b30a-bace-11e8-b2b8-ac1f6b6435d0</td>\n",
       "      <td>0 1</td>\n",
       "    </tr>\n",
       "    <tr>\n",
       "      <th>11680</th>\n",
       "      <td>ff581dac-bac5-11e8-b2b7-ac1f6b6435d0</td>\n",
       "      <td>0 18 19</td>\n",
       "    </tr>\n",
       "    <tr>\n",
       "      <th>11681</th>\n",
       "      <td>ff5ee18c-baca-11e8-b2b8-ac1f6b6435d0</td>\n",
       "      <td>0 25</td>\n",
       "    </tr>\n",
       "    <tr>\n",
       "      <th>11682</th>\n",
       "      <td>ff67db02-baca-11e8-b2b8-ac1f6b6435d0</td>\n",
       "      <td>0 25</td>\n",
       "    </tr>\n",
       "    <tr>\n",
       "      <th>11683</th>\n",
       "      <td>ff7cc20c-bad3-11e8-b2b8-ac1f6b6435d0</td>\n",
       "      <td>0 18 25</td>\n",
       "    </tr>\n",
       "    <tr>\n",
       "      <th>11684</th>\n",
       "      <td>ff7dc452-bad5-11e8-b2b9-ac1f6b6435d0</td>\n",
       "      <td>0 1 3</td>\n",
       "    </tr>\n",
       "    <tr>\n",
       "      <th>11685</th>\n",
       "      <td>ff8346fa-bad7-11e8-b2b9-ac1f6b6435d0</td>\n",
       "      <td>11</td>\n",
       "    </tr>\n",
       "    <tr>\n",
       "      <th>11686</th>\n",
       "      <td>ff8e580c-bad1-11e8-b2b8-ac1f6b6435d0</td>\n",
       "      <td>5 25</td>\n",
       "    </tr>\n",
       "    <tr>\n",
       "      <th>11687</th>\n",
       "      <td>ff9659a0-bacf-11e8-b2b8-ac1f6b6435d0</td>\n",
       "      <td>0 21 26</td>\n",
       "    </tr>\n",
       "    <tr>\n",
       "      <th>11688</th>\n",
       "      <td>ff9bdfd8-baca-11e8-b2b8-ac1f6b6435d0</td>\n",
       "      <td>21 25</td>\n",
       "    </tr>\n",
       "    <tr>\n",
       "      <th>11689</th>\n",
       "      <td>ff9ccd2a-bad0-11e8-b2b8-ac1f6b6435d0</td>\n",
       "      <td>21</td>\n",
       "    </tr>\n",
       "    <tr>\n",
       "      <th>11690</th>\n",
       "      <td>ffa6bc7e-bad3-11e8-b2b8-ac1f6b6435d0</td>\n",
       "      <td>7 23</td>\n",
       "    </tr>\n",
       "    <tr>\n",
       "      <th>11691</th>\n",
       "      <td>ffad96dc-bad5-11e8-b2b9-ac1f6b6435d0</td>\n",
       "      <td>26</td>\n",
       "    </tr>\n",
       "    <tr>\n",
       "      <th>11692</th>\n",
       "      <td>ffb91448-bac7-11e8-b2b7-ac1f6b6435d0</td>\n",
       "      <td>0 7 25</td>\n",
       "    </tr>\n",
       "    <tr>\n",
       "      <th>11693</th>\n",
       "      <td>ffd677a0-bada-11e8-b2b9-ac1f6b6435d0</td>\n",
       "      <td>0 1 3</td>\n",
       "    </tr>\n",
       "    <tr>\n",
       "      <th>11694</th>\n",
       "      <td>ffd72db2-bad5-11e8-b2b9-ac1f6b6435d0</td>\n",
       "      <td>19</td>\n",
       "    </tr>\n",
       "    <tr>\n",
       "      <th>11695</th>\n",
       "      <td>ffd83fa4-bacb-11e8-b2b8-ac1f6b6435d0</td>\n",
       "      <td>0 25</td>\n",
       "    </tr>\n",
       "    <tr>\n",
       "      <th>11696</th>\n",
       "      <td>ffd91122-bad0-11e8-b2b8-ac1f6b6435d0</td>\n",
       "      <td>0 11 21 25</td>\n",
       "    </tr>\n",
       "    <tr>\n",
       "      <th>11697</th>\n",
       "      <td>ffdfb96a-bad4-11e8-b2b8-ac1f6b6435d0</td>\n",
       "      <td>0 7 11</td>\n",
       "    </tr>\n",
       "    <tr>\n",
       "      <th>11698</th>\n",
       "      <td>ffdfc590-bad4-11e8-b2b8-ac1f6b6435d0</td>\n",
       "      <td>0</td>\n",
       "    </tr>\n",
       "    <tr>\n",
       "      <th>11699</th>\n",
       "      <td>ffecb8a4-bad4-11e8-b2b8-ac1f6b6435d0</td>\n",
       "      <td>5 7 11 23</td>\n",
       "    </tr>\n",
       "    <tr>\n",
       "      <th>11700</th>\n",
       "      <td>fff03816-bad5-11e8-b2b9-ac1f6b6435d0</td>\n",
       "      <td>0 1</td>\n",
       "    </tr>\n",
       "    <tr>\n",
       "      <th>11701</th>\n",
       "      <td>fffe6f9c-bacd-11e8-b2b8-ac1f6b6435d0</td>\n",
       "      <td>0 21 25</td>\n",
       "    </tr>\n",
       "  </tbody>\n",
       "</table>\n",
       "<p>11702 rows × 2 columns</p>\n",
       "</div>"
      ],
      "text/plain": [
       "                                         Id   Predicted\n",
       "0      00008af0-bad0-11e8-b2b8-ac1f6b6435d0           2\n",
       "1      0000a892-bacf-11e8-b2b8-ac1f6b6435d0        5 25\n",
       "2      0006faa6-bac7-11e8-b2b7-ac1f6b6435d0      0 5 25\n",
       "3      0008baca-bad7-11e8-b2b9-ac1f6b6435d0        0 25\n",
       "4      000cce7e-bad4-11e8-b2b8-ac1f6b6435d0     7 23 25\n",
       "5      00109f6a-bac8-11e8-b2b7-ac1f6b6435d0     4 21 25\n",
       "6      001765de-bacd-11e8-b2b8-ac1f6b6435d0        4 25\n",
       "7      0018641a-bac9-11e8-b2b8-ac1f6b6435d0        0 25\n",
       "8      00200f22-bad7-11e8-b2b9-ac1f6b6435d0        0 25\n",
       "9      0026f154-bac6-11e8-b2b7-ac1f6b6435d0     4 21 25\n",
       "10     002729d2-bace-11e8-b2b8-ac1f6b6435d0       18 25\n",
       "11     002c1a7c-bad4-11e8-b2b8-ac1f6b6435d0         3 5\n",
       "12     003170fa-bacd-11e8-b2b8-ac1f6b6435d0        2 25\n",
       "13     0031820a-baca-11e8-b2b8-ac1f6b6435d0       0 6 7\n",
       "14     00407c16-bad3-11e8-b2b8-ac1f6b6435d0        0 21\n",
       "15     005ce2ea-bacc-11e8-b2b8-ac1f6b6435d0     7 18 25\n",
       "16     00631ec8-bad9-11e8-b2b9-ac1f6b6435d0        2 14\n",
       "17     00673f64-bad2-11e8-b2b8-ac1f6b6435d0         0 5\n",
       "18     0070171c-bad0-11e8-b2b8-ac1f6b6435d0       14 21\n",
       "19     007290b6-bad8-11e8-b2b9-ac1f6b6435d0         0 5\n",
       "20     0075ee26-bacb-11e8-b2b8-ac1f6b6435d0           6\n",
       "21     00763d66-bacd-11e8-b2b8-ac1f6b6435d0      3 6 11\n",
       "22     007eca68-bac7-11e8-b2b7-ac1f6b6435d0        0 25\n",
       "23     008ab0b8-bad5-11e8-b2b8-ac1f6b6435d0           0\n",
       "24     008e8c3e-bad4-11e8-b2b8-ac1f6b6435d0         0 4\n",
       "25     009131e6-baca-11e8-b2b8-ac1f6b6435d0     0 21 25\n",
       "26     0094159e-bad1-11e8-b2b8-ac1f6b6435d0     0 21 25\n",
       "27     0097a5c2-bac9-11e8-b2b8-ac1f6b6435d0        0 19\n",
       "28     009d32e4-bad3-11e8-b2b8-ac1f6b6435d0        0 25\n",
       "29     00a4925a-bad8-11e8-b2b9-ac1f6b6435d0         0 5\n",
       "...                                     ...         ...\n",
       "11672  ff2cd716-bad7-11e8-b2b9-ac1f6b6435d0       0 3 5\n",
       "11673  ff2d3abc-bad7-11e8-b2b9-ac1f6b6435d0        0 25\n",
       "11674  ff38cec0-bad4-11e8-b2b8-ac1f6b6435d0         0 2\n",
       "11675  ff489096-bad7-11e8-b2b9-ac1f6b6435d0        0 25\n",
       "11676  ff49d834-bad2-11e8-b2b8-ac1f6b6435d0        2 21\n",
       "11677  ff4aa9a4-bac7-11e8-b2b7-ac1f6b6435d0          21\n",
       "11678  ff5464dc-baca-11e8-b2b8-ac1f6b6435d0     0 12 21\n",
       "11679  ff56b30a-bace-11e8-b2b8-ac1f6b6435d0         0 1\n",
       "11680  ff581dac-bac5-11e8-b2b7-ac1f6b6435d0     0 18 19\n",
       "11681  ff5ee18c-baca-11e8-b2b8-ac1f6b6435d0        0 25\n",
       "11682  ff67db02-baca-11e8-b2b8-ac1f6b6435d0        0 25\n",
       "11683  ff7cc20c-bad3-11e8-b2b8-ac1f6b6435d0     0 18 25\n",
       "11684  ff7dc452-bad5-11e8-b2b9-ac1f6b6435d0       0 1 3\n",
       "11685  ff8346fa-bad7-11e8-b2b9-ac1f6b6435d0          11\n",
       "11686  ff8e580c-bad1-11e8-b2b8-ac1f6b6435d0        5 25\n",
       "11687  ff9659a0-bacf-11e8-b2b8-ac1f6b6435d0     0 21 26\n",
       "11688  ff9bdfd8-baca-11e8-b2b8-ac1f6b6435d0       21 25\n",
       "11689  ff9ccd2a-bad0-11e8-b2b8-ac1f6b6435d0          21\n",
       "11690  ffa6bc7e-bad3-11e8-b2b8-ac1f6b6435d0        7 23\n",
       "11691  ffad96dc-bad5-11e8-b2b9-ac1f6b6435d0          26\n",
       "11692  ffb91448-bac7-11e8-b2b7-ac1f6b6435d0      0 7 25\n",
       "11693  ffd677a0-bada-11e8-b2b9-ac1f6b6435d0       0 1 3\n",
       "11694  ffd72db2-bad5-11e8-b2b9-ac1f6b6435d0          19\n",
       "11695  ffd83fa4-bacb-11e8-b2b8-ac1f6b6435d0        0 25\n",
       "11696  ffd91122-bad0-11e8-b2b8-ac1f6b6435d0  0 11 21 25\n",
       "11697  ffdfb96a-bad4-11e8-b2b8-ac1f6b6435d0      0 7 11\n",
       "11698  ffdfc590-bad4-11e8-b2b8-ac1f6b6435d0           0\n",
       "11699  ffecb8a4-bad4-11e8-b2b8-ac1f6b6435d0   5 7 11 23\n",
       "11700  fff03816-bad5-11e8-b2b9-ac1f6b6435d0         0 1\n",
       "11701  fffe6f9c-bacd-11e8-b2b8-ac1f6b6435d0     0 21 25\n",
       "\n",
       "[11702 rows x 2 columns]"
      ]
     },
     "execution_count": 19,
     "metadata": {},
     "output_type": "execute_result"
    }
   ],
   "source": [
    "submission_df"
   ]
  },
  {
   "cell_type": "code",
   "execution_count": 20,
   "metadata": {
    "scrolled": false
   },
   "outputs": [
    {
     "data": {
      "text/plain": [
       "False"
      ]
     },
     "execution_count": 20,
     "metadata": {},
     "output_type": "execute_result"
    }
   ],
   "source": [
    "'' in submission_df['Predicted'].unique()"
   ]
  },
  {
   "cell_type": "code",
   "execution_count": 21,
   "metadata": {},
   "outputs": [],
   "source": [
    "submission_df.to_csv(RESULT, index=False)"
   ]
  },
  {
   "cell_type": "code",
   "execution_count": 22,
   "metadata": {},
   "outputs": [
    {
     "data": {
      "text/plain": [
       "array([0.207, 0.106, 0.083, 0.072, 0.079, 0.091, 0.083, 0.094, 0.258,\n",
       "       0.108, 0.038, 0.047, 0.117, 0.108, 0.051, 0.061, 0.091, 0.089,\n",
       "       0.068, 0.116, 0.053, 0.079, 0.111, 0.096, 0.167, 0.171, 0.072,\n",
       "       0.026])"
      ]
     },
     "execution_count": 22,
     "metadata": {},
     "output_type": "execute_result"
    }
   ],
   "source": [
    "thre_list"
   ]
  },
  {
   "cell_type": "code",
   "execution_count": null,
   "metadata": {},
   "outputs": [],
   "source": []
  }
 ],
 "metadata": {
  "kernelspec": {
   "display_name": "Python [conda env:ML2018FALL_NEW]",
   "language": "python",
   "name": "conda-env-ML2018FALL_NEW-py"
  },
  "language_info": {
   "codemirror_mode": {
    "name": "ipython",
    "version": 3
   },
   "file_extension": ".py",
   "mimetype": "text/x-python",
   "name": "python",
   "nbconvert_exporter": "python",
   "pygments_lexer": "ipython3",
   "version": "3.6.6"
  }
 },
 "nbformat": 4,
 "nbformat_minor": 2
}
