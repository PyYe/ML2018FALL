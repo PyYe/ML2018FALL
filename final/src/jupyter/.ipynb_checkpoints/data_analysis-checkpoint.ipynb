{
 "cells": [
  {
   "cell_type": "code",
   "execution_count": 1,
   "metadata": {},
   "outputs": [],
   "source": [
    "import os\n",
    "import numpy as np\n",
    "import pandas as pd"
   ]
  },
  {
   "cell_type": "code",
   "execution_count": 2,
   "metadata": {},
   "outputs": [
    {
     "data": {
      "text/plain": [
       "'..'"
      ]
     },
     "execution_count": 2,
     "metadata": {},
     "output_type": "execute_result"
    }
   ],
   "source": [
    "os.path.pardir"
   ]
  },
  {
   "cell_type": "code",
   "execution_count": 2,
   "metadata": {},
   "outputs": [],
   "source": [
    "NAME = \"data_analysis\"# os.path.basename(__file__).split('.')[0]\n",
    "PATH = os.getcwd()\n",
    "TRAIN = os.path.join(os.getcwd(), 'data', 'train')\n",
    "TEST = os.path.join(os.getcwd(), 'data', 'test')\n",
    "PREPROCESSED = os.path.join(os.getcwd(), 'preprocessed_data')\n",
    "LABELS = os.path.join(os.getcwd(), 'data', 'train.csv')\n",
    "SAMPLE = os.path.join(os.getcwd(), 'data', 'sample_submission.csv')\n",
    "CLASS_WEIGHT = os.path.join(os.getcwd(), 'preprocessed_data', 'class_weight.npy')\n",
    "#MODEL = os.path.join(os.getcwd(), 'model', NAME+'.h5')\n",
    "#RESULT = os.path.join(os.getcwd(), 'result', NAME+'_submission.csv')"
   ]
  },
  {
   "cell_type": "code",
   "execution_count": 3,
   "metadata": {},
   "outputs": [],
   "source": [
    "def load_data(data_path):\n",
    "    class_dict = {}\n",
    "    with open(data_path, 'r', encoding='utf-8') as f:\n",
    "        readin = f.readlines()\n",
    "        # Use regular expression to get rid of the index\n",
    "        id_list = [s.split(',')[0] for s in readin[1:]]\n",
    "        for s in readin[1:]:\n",
    "            classes = s.split(',')[1]\n",
    "            classes_list = classes.strip('\\n').split(' ')\n",
    "            for c in classes_list:\n",
    "                if class_dict.get(c):\n",
    "                    class_dict[c] += 1\n",
    "                else:\n",
    "                    class_dict[c] = 1\n",
    "    return id_list, class_dict"
   ]
  },
  {
   "cell_type": "code",
   "execution_count": 4,
   "metadata": {},
   "outputs": [],
   "source": [
    "id_list, class_dict = load_data(LABELS)"
   ]
  },
  {
   "cell_type": "code",
   "execution_count": 5,
   "metadata": {
    "scrolled": true
   },
   "outputs": [
    {
     "data": {
      "text/plain": [
       "{'16': 530,\n",
       " '0': 12885,\n",
       " '7': 2822,\n",
       " '1': 1254,\n",
       " '2': 3621,\n",
       " '5': 2513,\n",
       " '18': 902,\n",
       " '25': 8228,\n",
       " '23': 2965,\n",
       " '21': 3777,\n",
       " '24': 322,\n",
       " '6': 1008,\n",
       " '11': 1093,\n",
       " '3': 1561,\n",
       " '12': 688,\n",
       " '13': 537,\n",
       " '14': 1066,\n",
       " '4': 1858,\n",
       " '20': 172,\n",
       " '22': 802,\n",
       " '17': 210,\n",
       " '19': 1482,\n",
       " '8': 53,\n",
       " '9': 45,\n",
       " '10': 28,\n",
       " '26': 328,\n",
       " '27': 11,\n",
       " '15': 21}"
      ]
     },
     "execution_count": 5,
     "metadata": {},
     "output_type": "execute_result"
    }
   ],
   "source": [
    "class_dict"
   ]
  },
  {
   "cell_type": "code",
   "execution_count": 6,
   "metadata": {},
   "outputs": [],
   "source": [
    "class_list = []\n",
    "for key in class_dict:\n",
    "    for i in range(class_dict[key]):\n",
    "        class_list.append(int(key))"
   ]
  },
  {
   "cell_type": "code",
   "execution_count": 7,
   "metadata": {},
   "outputs": [],
   "source": [
    "from sklearn.utils.class_weight import compute_class_weight\n",
    "\n",
    "class_weight = compute_class_weight('balanced', range(28), np.array(class_list))"
   ]
  },
  {
   "cell_type": "code",
   "execution_count": 8,
   "metadata": {},
   "outputs": [],
   "source": [
    "np.save(CLASS_WEIGHT, class_weight)"
   ]
  },
  {
   "cell_type": "code",
   "execution_count": 9,
   "metadata": {},
   "outputs": [],
   "source": [
    "train_x = np.load(os.path.join(PREPROCESSED, 'train_RGBY_original_x.npy'))\n",
    "train_y = np.load(os.path.join(PREPROCESSED, 'train_RGBY_original_y.npy'))"
   ]
  },
  {
   "cell_type": "code",
   "execution_count": 10,
   "metadata": {},
   "outputs": [],
   "source": [
    "valid_x = train_x[int(train_x.shape[0]*0.9):,:]\n",
    "valid_y = train_y[int(train_y.shape[0]*0.9):,:]"
   ]
  },
  {
   "cell_type": "code",
   "execution_count": 12,
   "metadata": {},
   "outputs": [
    {
     "data": {
      "text/plain": [
       "(3108, 512, 512, 4)"
      ]
     },
     "execution_count": 12,
     "metadata": {},
     "output_type": "execute_result"
    }
   ],
   "source": [
    "valid_x.shape"
   ]
  },
  {
   "cell_type": "code",
   "execution_count": 13,
   "metadata": {},
   "outputs": [
    {
     "data": {
      "text/plain": [
       "(31072, 512, 512, 4)"
      ]
     },
     "execution_count": 13,
     "metadata": {},
     "output_type": "execute_result"
    }
   ],
   "source": [
    "train_x.shape"
   ]
  },
  {
   "cell_type": "code",
   "execution_count": 14,
   "metadata": {},
   "outputs": [
    {
     "data": {
      "text/plain": [
       "(3108, 28)"
      ]
     },
     "execution_count": 14,
     "metadata": {},
     "output_type": "execute_result"
    }
   ],
   "source": [
    "valid_y.shape"
   ]
  },
  {
   "cell_type": "code",
   "execution_count": 15,
   "metadata": {},
   "outputs": [
    {
     "data": {
      "text/plain": [
       "array([1284,  136,  390,  155,  176,  243,  108,  282,    3,    5,    3,\n",
       "        117,   71,   50,  117,    4,   50,   19,   77,  149,   18,  371,\n",
       "         74,  306,   38,  787,   29,    0], dtype=uint32)"
      ]
     },
     "execution_count": 15,
     "metadata": {},
     "output_type": "execute_result"
    }
   ],
   "source": [
    "np.sum(valid_y, axis=0)"
   ]
  },
  {
   "cell_type": "code",
   "execution_count": 16,
   "metadata": {},
   "outputs": [],
   "source": [
    "np.save(os.path.join(PREPROCESSED, 'valid_RGBY_original_x.npy'), valid_x)\n",
    "np.save(os.path.join(PREPROCESSED, 'valid_RGBY_original_y.npy'), valid_y)"
   ]
  },
  {
   "cell_type": "code",
   "execution_count": null,
   "metadata": {},
   "outputs": [],
   "source": []
  }
 ],
 "metadata": {
  "kernelspec": {
   "display_name": "Python [conda env:ML2018FALL_NEW]",
   "language": "python",
   "name": "conda-env-ML2018FALL_NEW-py"
  },
  "language_info": {
   "codemirror_mode": {
    "name": "ipython",
    "version": 3
   },
   "file_extension": ".py",
   "mimetype": "text/x-python",
   "name": "python",
   "nbconvert_exporter": "python",
   "pygments_lexer": "ipython3",
   "version": "3.6.6"
  }
 },
 "nbformat": 4,
 "nbformat_minor": 2
}
