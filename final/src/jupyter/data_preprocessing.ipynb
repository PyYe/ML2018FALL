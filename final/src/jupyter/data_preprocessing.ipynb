{
 "cells": [
  {
   "cell_type": "code",
   "execution_count": 1,
   "metadata": {},
   "outputs": [],
   "source": [
    "import pandas as pd\n",
    "import numpy as np\n",
    "import os, sys, math, pickle\n",
    "from PIL import Image\n",
    "import cv2\n",
    "import random as rn\n",
    "\n",
    "import tensorflow as tf\n",
    "from tensorflow.image import resize_images"
   ]
  },
  {
   "cell_type": "code",
   "execution_count": 2,
   "metadata": {},
   "outputs": [],
   "source": [
    "os.environ['PYTHONHASHSEED'] = '0'\n",
    "# Setting the seed for numpy-generated random numbers\n",
    "np.random.seed(37)\n",
    "# Setting the seed for python random numbers\n",
    "rn.seed(1254)\n",
    "# Setting the graph-level random seed.\n",
    "tf.set_random_seed(89)\n",
    "# 自動增長 GPU 記憶體用量\n",
    "gpu_options = tf.GPUOptions(allow_growth=True)\n",
    "sess = tf.Session(config=tf.ConfigProto(gpu_options=gpu_options))\n",
    "# 設定 Keras 使用的 Session\n",
    "tf.keras.backend.set_session(sess)"
   ]
  },
  {
   "cell_type": "code",
   "execution_count": 3,
   "metadata": {},
   "outputs": [],
   "source": [
    "name_label_dict = {\n",
    "0:  'Nucleoplasm',\n",
    "1:  'Nuclear membrane',\n",
    "2:  'Nucleoli',   \n",
    "3:  'Nucleoli fibrillar center',\n",
    "4:  'Nuclear speckles',\n",
    "5:  'Nuclear bodies',\n",
    "6:  'Endoplasmic reticulum',   \n",
    "7:  'Golgi apparatus',\n",
    "8:  'Peroxisomes',\n",
    "9:  'Endosomes',\n",
    "10:  'Lysosomes',\n",
    "11:  'Intermediate filaments',\n",
    "12:  'Actin filaments',\n",
    "13:  'Focal adhesion sites',   \n",
    "14:  'Microtubules',\n",
    "15:  'Microtubule ends',  \n",
    "16:  'Cytokinetic bridge',   \n",
    "17:  'Mitotic spindle',\n",
    "18:  'Microtubule organizing center',  \n",
    "19:  'Centrosome',\n",
    "20:  'Lipid droplets',\n",
    "21:  'Plasma membrane',   \n",
    "22:  'Cell junctions', \n",
    "23:  'Mitochondria',\n",
    "24:  'Aggresome',\n",
    "25:  'Cytosol',\n",
    "26:  'Cytoplasmic bodies',   \n",
    "27:  'Rods & rings' }\n",
    "\n",
    "LABEL_NUM = 28"
   ]
  },
  {
   "cell_type": "code",
   "execution_count": 4,
   "metadata": {},
   "outputs": [],
   "source": [
    "NAME = \"data_preprocessing\"# os.path.basename(__file__).split('.')[0]\n",
    "PATH = os.getcwd()\n",
    "TRAIN = os.path.join(os.getcwd(), 'data', 'train')\n",
    "TEST = os.path.join(os.getcwd(), 'data', 'test')\n",
    "LABELS = os.path.join(os.getcwd(), 'data', 'train.csv')\n",
    "PREPROCESSED = os.path.join(os.getcwd(), 'preprocessed_data')\n",
    "SAMPLE = os.path.join(os.getcwd(), 'data', 'sample_submission.csv')\n",
    "MODEL = os.path.join(os.getcwd(), 'model', NAME+'.h5')\n",
    "RESULT = os.path.join(os.getcwd(), 'result', NAME+'_submission.csv')"
   ]
  },
  {
   "cell_type": "code",
   "execution_count": 6,
   "metadata": {},
   "outputs": [],
   "source": [
    "data = pd.read_csv(LABELS)\n",
    "\n",
    "train_dataset_info = []\n",
    "for name, labels in zip(data['Id'], data['Target'].str.split(' ')):\n",
    "    train_dataset_info.append({\n",
    "        'path':os.path.join(TRAIN, name),\n",
    "        'labels':np.array([int(label) for label in labels])})\n",
    "train_dataset_info = np.array(train_dataset_info)"
   ]
  },
  {
   "cell_type": "code",
   "execution_count": 7,
   "metadata": {},
   "outputs": [
    {
     "data": {
      "text/plain": [
       "array([{'path': 'C:\\\\Users\\\\OneDay\\\\Downloads\\\\ML2018FALL\\\\final\\\\Human_Protein_Atlas_Image_classification\\\\data\\\\train\\\\00070df0-bbc3-11e8-b2bc-ac1f6b6435d0', 'labels': array([16,  0])},\n",
       "       {'path': 'C:\\\\Users\\\\OneDay\\\\Downloads\\\\ML2018FALL\\\\final\\\\Human_Protein_Atlas_Image_classification\\\\data\\\\train\\\\000a6c98-bb9b-11e8-b2b9-ac1f6b6435d0', 'labels': array([7, 1, 2, 0])},\n",
       "       {'path': 'C:\\\\Users\\\\OneDay\\\\Downloads\\\\ML2018FALL\\\\final\\\\Human_Protein_Atlas_Image_classification\\\\data\\\\train\\\\000a9596-bbc4-11e8-b2bc-ac1f6b6435d0', 'labels': array([5])},\n",
       "       ...,\n",
       "       {'path': 'C:\\\\Users\\\\OneDay\\\\Downloads\\\\ML2018FALL\\\\final\\\\Human_Protein_Atlas_Image_classification\\\\data\\\\train\\\\fff189d8-bbab-11e8-b2ba-ac1f6b6435d0', 'labels': array([7])},\n",
       "       {'path': 'C:\\\\Users\\\\OneDay\\\\Downloads\\\\ML2018FALL\\\\final\\\\Human_Protein_Atlas_Image_classification\\\\data\\\\train\\\\fffdf7e0-bbc4-11e8-b2bc-ac1f6b6435d0', 'labels': array([25,  2, 21])},\n",
       "       {'path': 'C:\\\\Users\\\\OneDay\\\\Downloads\\\\ML2018FALL\\\\final\\\\Human_Protein_Atlas_Image_classification\\\\data\\\\train\\\\fffe0ffe-bbc0-11e8-b2bb-ac1f6b6435d0', 'labels': array([2, 0])}],\n",
       "      dtype=object)"
      ]
     },
     "execution_count": 7,
     "metadata": {},
     "output_type": "execute_result"
    }
   ],
   "source": [
    "train_dataset_info"
   ]
  },
  {
   "cell_type": "code",
   "execution_count": 22,
   "metadata": {},
   "outputs": [
    {
     "data": {
      "text/plain": [
       "array([{'path': 'C:\\\\Users\\\\OneDay\\\\Downloads\\\\ML2018FALL\\\\final\\\\Human_Protein_Atlas_Image_classification\\\\data\\\\test\\\\00008af0-bad0-11e8-b2b8-ac1f6b6435d0', 'name': '00008af0-bad0-11e8-b2b8-ac1f6b6435d0'},\n",
       "       {'path': 'C:\\\\Users\\\\OneDay\\\\Downloads\\\\ML2018FALL\\\\final\\\\Human_Protein_Atlas_Image_classification\\\\data\\\\test\\\\0000a892-bacf-11e8-b2b8-ac1f6b6435d0', 'name': '0000a892-bacf-11e8-b2b8-ac1f6b6435d0'},\n",
       "       {'path': 'C:\\\\Users\\\\OneDay\\\\Downloads\\\\ML2018FALL\\\\final\\\\Human_Protein_Atlas_Image_classification\\\\data\\\\test\\\\0006faa6-bac7-11e8-b2b7-ac1f6b6435d0', 'name': '0006faa6-bac7-11e8-b2b7-ac1f6b6435d0'},\n",
       "       ...,\n",
       "       {'path': 'C:\\\\Users\\\\OneDay\\\\Downloads\\\\ML2018FALL\\\\final\\\\Human_Protein_Atlas_Image_classification\\\\data\\\\test\\\\ffecb8a4-bad4-11e8-b2b8-ac1f6b6435d0', 'name': 'ffecb8a4-bad4-11e8-b2b8-ac1f6b6435d0'},\n",
       "       {'path': 'C:\\\\Users\\\\OneDay\\\\Downloads\\\\ML2018FALL\\\\final\\\\Human_Protein_Atlas_Image_classification\\\\data\\\\test\\\\fff03816-bad5-11e8-b2b9-ac1f6b6435d0', 'name': 'fff03816-bad5-11e8-b2b9-ac1f6b6435d0'},\n",
       "       {'path': 'C:\\\\Users\\\\OneDay\\\\Downloads\\\\ML2018FALL\\\\final\\\\Human_Protein_Atlas_Image_classification\\\\data\\\\test\\\\fffe6f9c-bacd-11e8-b2b8-ac1f6b6435d0', 'name': 'fffe6f9c-bacd-11e8-b2b8-ac1f6b6435d0'}],\n",
       "      dtype=object)"
      ]
     },
     "execution_count": 22,
     "metadata": {},
     "output_type": "execute_result"
    }
   ],
   "source": [
    "test_dataset_info = []\n",
    "test_dataset_namelist = [ test_name.split('_')[0] for test_name in os.listdir(TEST)]\n",
    "test_name_unique = []\n",
    "\n",
    "prename = \"\"\n",
    "for name in test_dataset_namelist:\n",
    "    if prename != name:\n",
    "        test_name_unique.append(name)\n",
    "        test_dataset_info.append({\n",
    "            'path': os.path.join(TEST, name),\n",
    "            'name': name })\n",
    "        prename = name\n",
    "test_dataset_info = np.array(test_dataset_info)\n",
    "\n",
    "pickle.dump(test_name_unique, open(os.path.join(PREPROCESSED, 'test_name.pickle'), 'wb'))\n",
    "#test_name = pickle.load(open(os.path.join(PREPROCESSED, 'test_name.pickle'), 'rb'))\n",
    "\n",
    "test_dataset_info"
   ]
  },
  {
   "cell_type": "code",
   "execution_count": 19,
   "metadata": {},
   "outputs": [],
   "source": [
    "class data_generator:\n",
    "    \n",
    "    def create_train(dataset_info, train_size, shape, mode):\n",
    "        \n",
    "        random_indexes = np.random.choice(len(dataset_info), train_size)\n",
    "        batch_images = np.empty((train_size, shape[0], shape[1], shape[2]), dtype=np.uint8)\n",
    "        batch_labels = np.zeros((train_size, 28))\n",
    "        for i, idx in enumerate(random_indexes):\n",
    "            if mode=='RGBY':\n",
    "                image = data_generator.RGBY(\n",
    "                    dataset_info[idx]['path'], shape)   \n",
    "                batch_images[i] = image\n",
    "                batch_labels[i][dataset_info[idx]['labels']] = 1\n",
    "            elif mode=='RGB':\n",
    "                image = data_generator.RGB(\n",
    "                    dataset_info[idx]['path'], shape)   \n",
    "                batch_images[i] = image\n",
    "                batch_labels[i][dataset_info[idx]['labels']] = 1\n",
    "            else:\n",
    "                print (\"Unexpected mode!\")\n",
    "\n",
    "        return batch_images, batch_labels.astype(np.uint8)\n",
    "            \n",
    "    def create_test(dataset_info, test_size, shape, mode):\n",
    "        batch_images = np.empty((test_size, shape[0], shape[1], shape[2]), dtype=np.uint8)\n",
    "        batch_names = []\n",
    "        for i, idx in enumerate(dataset_info):\n",
    "            if mode=='RGBY':\n",
    "                image = data_generator.RGBY(\n",
    "                    idx['path'], shape)   \n",
    "                batch_images[i] = image\n",
    "                batch_names.append(idx['name'])\n",
    "            elif mode=='RGB':\n",
    "                image = data_generator.RGB(\n",
    "                    idx['path'], shape)   \n",
    "                batch_images[i] = image\n",
    "                batch_names.append(idx['name'])\n",
    "            else:\n",
    "                print (\"Unexpected mode!\")\n",
    "\n",
    "        return batch_images, batch_names\n",
    "        \n",
    "    def RGBY(path, shape):\n",
    "        image_red_ch = np.asarray(Image.open(path+'_red.png'))\n",
    "        image_green_ch = np.asarray(Image.open(path+'_green.png'))\n",
    "        image_blue_ch = np.asarray(Image.open(path+'_blue.png'))\n",
    "        image_yellow_ch = np.asarray(Image.open(path+'_yellow.png'))\n",
    "        \n",
    "        image = np.stack((\n",
    "            image_red_ch, \n",
    "            image_green_ch, \n",
    "            image_blue_ch,\n",
    "            image_yellow_ch\n",
    "        ), -1)\n",
    "        return image.astype(np.uint8)\n",
    "    \n",
    "    def RGB(path, shape):\n",
    "        image_red_ch = np.asarray(Image.open(path+'_red.png'))\n",
    "        image_green_ch = np.asarray(Image.open(path+'_green.png'))\n",
    "        image_blue_ch = np.asarray(Image.open(path+'_blue.png'))\n",
    "        \n",
    "        image = np.stack((\n",
    "            image_red_ch, \n",
    "            image_green_ch, \n",
    "            image_blue_ch\n",
    "        ), -1)\n",
    "        return image.astype(np.uint8)\n",
    "                \n"
   ]
  },
  {
   "cell_type": "code",
   "execution_count": null,
   "metadata": {},
   "outputs": [],
   "source": [
    "IMAGE_LENGTH = 512\n",
    "IMAGE_WIDTH = 512\n",
    "CHANNEL_NUM = 4\n",
    "TRAIN_SIZE = int(len(os.listdir(TRAIN))/4)\n",
    "\n",
    "# create train datagen\n",
    "train_x, train_y= data_generator.create_train(\n",
    "    dataset_info=train_dataset_info, train_size=TRAIN_SIZE, shape=(IMAGE_LENGTH,IMAGE_WIDTH,CHANNEL_NUM), mode='RGBY' )\n",
    "\n",
    "train_x.shape\n",
    "train_y\n",
    "type(train_x[0][0][0][0])\n",
    "type(train_y[0][0])\n",
    "np.save(os.path.join(PREPROCESSED, 'train_RGBY_original_x.npy'), train_x)\n",
    "np.save(os.path.join(PREPROCESSED, 'train_RGBY_original_y.npy'), train_y)"
   ]
  },
  {
   "cell_type": "code",
   "execution_count": 21,
   "metadata": {},
   "outputs": [],
   "source": [
    "TEST_SIZE = int(len(os.listdir(TEST))/4)\n",
    "IMAGE_LENGTH = 512\n",
    "IMAGE_WIDTH = 512\n",
    "CHANNEL_NUM = 4\n",
    "\n",
    "# create test datagen\n",
    "test_x, test_name= data_generator.create_test(\n",
    "    dataset_info=test_dataset_info, test_size=TEST_SIZE, shape=(IMAGE_LENGTH,IMAGE_WIDTH,CHANNEL_NUM), mode='RGBY' )\n",
    "np.save(os.path.join(PREPROCESSED, 'test_RGBY_original_x.npy'), test_x)"
   ]
  },
  {
   "cell_type": "code",
   "execution_count": null,
   "metadata": {},
   "outputs": [],
   "source": [
    "TEST_SIZE = int(len(os.listdir(TEST))/4)\n",
    "IMAGE_LENGTH = 512\n",
    "IMAGE_WIDTH = 512\n",
    "CHANNEL_NUM = 3\n",
    "# create test datagen\n",
    "test_x, test_name= data_generator.create_test(\n",
    "    dataset_info=test_dataset_info, test_size=TEST_SIZE, shape=(IMAGE_LENGTH,IMAGE_WIDTH,CHANNEL_NUM), mode='RGB' )\n",
    "np.save(os.path.join(PREPROCESSED, 'test_RGB_original_x.npy'), test_x)"
   ]
  }
 ],
 "metadata": {
  "kernelspec": {
   "display_name": "Python [conda env:ML2018FALL_NEW]",
   "language": "python",
   "name": "conda-env-ML2018FALL_NEW-py"
  },
  "language_info": {
   "codemirror_mode": {
    "name": "ipython",
    "version": 3
   },
   "file_extension": ".py",
   "mimetype": "text/x-python",
   "name": "python",
   "nbconvert_exporter": "python",
   "pygments_lexer": "ipython3",
   "version": "3.6.6"
  }
 },
 "nbformat": 4,
 "nbformat_minor": 2
}
